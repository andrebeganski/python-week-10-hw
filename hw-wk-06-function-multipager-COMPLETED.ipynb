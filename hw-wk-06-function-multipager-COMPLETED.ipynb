{
 "cells": [
  {
   "cell_type": "markdown",
   "metadata": {
    "id": "mBfDX-GhmJg3"
   },
   "source": [
    "## 1. Multipage Tabular Scrape\n",
    "\n",
    "- <a href=\"https://apps.health.ny.gov/pubdoh/professionals/doctors/conduct/factions/AllRecordsAction.action\">On this site</a>, scrape all doctors whose last names begin with \"Z\".\n",
    "- Export the content into a CSV file called ```md_Z.csv```.\n"
   ]
  },
  {
   "cell_type": "code",
   "execution_count": 1,
   "metadata": {
    "id": "wq2tpZ1zmJg9"
   },
   "outputs": [],
   "source": [
    "### add more cells as needed\n",
    "## importing necessary libraries\n",
    "from bs4 import BeautifulSoup\n",
    "import pandas as pd\n",
    "import requests\n",
    "from random import randrange ##  allows us to randomize numbers library\n",
    "import time ## time tracker"
   ]
  },
  {
   "cell_type": "code",
   "execution_count": 2,
   "metadata": {},
   "outputs": [],
   "source": [
    "## we can use the website to narrow down our search before we scrape\n",
    "## this link only selects doctors that have last names that start with z\n",
    "## the element we want to target is a table with class+=\"changeWidthalignCenter\"\n",
    "## switching \"p=1\" to \"p=\" so that it can be formatted, i.e. removing page number\n",
    "\n",
    "url = \"https://apps.health.ny.gov/pubdoh/professionals/doctors/conduct/factions/AlphabetSearchAction.action?alpbhabetSearch=Z&d-49653-p=\""
   ]
  },
  {
   "cell_type": "code",
   "execution_count": 3,
   "metadata": {},
   "outputs": [
    {
     "data": {
      "text/plain": [
       "['https://apps.health.ny.gov/pubdoh/professionals/doctors/conduct/factions/AlphabetSearchAction.action?alpbhabetSearch=Z&d-49653-p=1',\n",
       " 'https://apps.health.ny.gov/pubdoh/professionals/doctors/conduct/factions/AlphabetSearchAction.action?alpbhabetSearch=Z&d-49653-p=2',\n",
       " 'https://apps.health.ny.gov/pubdoh/professionals/doctors/conduct/factions/AlphabetSearchAction.action?alpbhabetSearch=Z&d-49653-p=3',\n",
       " 'https://apps.health.ny.gov/pubdoh/professionals/doctors/conduct/factions/AlphabetSearchAction.action?alpbhabetSearch=Z&d-49653-p=4',\n",
       " 'https://apps.health.ny.gov/pubdoh/professionals/doctors/conduct/factions/AlphabetSearchAction.action?alpbhabetSearch=Z&d-49653-p=5']"
      ]
     },
     "execution_count": 3,
     "metadata": {},
     "output_type": "execute_result"
    }
   ],
   "source": [
    "##creating function to generate links\n",
    "def generateLinks(url,total_pages):\n",
    "    '''\n",
    "    Provide the base url with number of pages to generate links\n",
    "    '''\n",
    "    links = []\n",
    "    for number in range(1, total_pages + 1): \n",
    "        links.append(f\"{url}{number}\") \n",
    "    return links\n",
    "\n",
    "my_links = generateLinks(url,5)\n",
    "my_links"
   ]
  },
  {
   "cell_type": "code",
   "execution_count": 4,
   "metadata": {},
   "outputs": [],
   "source": [
    "##creating snoozer\n",
    "def sleepyTime():\n",
    "    snoozer = randrange(30,60)\n",
    "    print(f\"snoozing for {snoozer} second before next scrape\")\n",
    "    time.sleep(snoozer)\n",
    "    \n",
    "##testing snoozer\n",
    "#for number in range(1,5):\n",
    "#    sleepyTime()"
   ]
  },
  {
   "cell_type": "code",
   "execution_count": 5,
   "metadata": {},
   "outputs": [],
   "source": [
    "##creating list processor\n",
    "def processList(all_dfs, file_name):\n",
    "    df = pd.concat(all_dfs, ignore_index = True)\n",
    "    df.to_csv(file_name, encoding = \"UTF-8\", index = False)\n",
    "    print(f\"{file_name} is in you current folder\")\n",
    "    return df"
   ]
  },
  {
   "cell_type": "code",
   "execution_count": 6,
   "metadata": {},
   "outputs": [],
   "source": [
    "##creating scraper function\n",
    "def myScraper(url,total_pages,file_name):\n",
    "    '''\n",
    "    Input: List links you would like to scrape, total pages, and file name.\n",
    "    Output: Final df, list of broken links.\n",
    "    '''\n",
    "    my_links = generateLinks(url,total_pages)\n",
    "    all_dfs = []\n",
    "    busted_links = []\n",
    "\n",
    "    counter = 1\n",
    "    for link in my_links:\n",
    "        print(f\"scraping {counter} of {len(my_links)}\")\n",
    "        counter += 1\n",
    "        print(f\"scraping {link}\")\n",
    "        response = requests.get(link)\n",
    "        if response.status_code == 200:\n",
    "            df = pd.read_html(response.text)\n",
    "            all_dfs.append(df[0][0:-2]) ##figuring out how to exclude the last two rows was tricky!\n",
    "        else:\n",
    "            print(f\"{link} returned a posted link with response {response.status_code}\")\n",
    "            busted_links.append(link)\n",
    "        if counter < len(my_links):\n",
    "            sleepyTime()\n",
    "        else:\n",
    "            pass\n",
    "    final_df = processList(all_dfs,file_name)\n",
    "    print(\"all done!\")\n",
    "    return (final_df,busted_links)\n"
   ]
  },
  {
   "cell_type": "code",
   "execution_count": 7,
   "metadata": {},
   "outputs": [
    {
     "name": "stdout",
     "output_type": "stream",
     "text": [
      "scraping 1 of 5\n",
      "scraping https://apps.health.ny.gov/pubdoh/professionals/doctors/conduct/factions/AlphabetSearchAction.action?alpbhabetSearch=Z&d-49653-p=1\n",
      "snoozing for 51 second before next scrape\n",
      "scraping 2 of 5\n",
      "scraping https://apps.health.ny.gov/pubdoh/professionals/doctors/conduct/factions/AlphabetSearchAction.action?alpbhabetSearch=Z&d-49653-p=2\n",
      "snoozing for 59 second before next scrape\n",
      "scraping 3 of 5\n",
      "scraping https://apps.health.ny.gov/pubdoh/professionals/doctors/conduct/factions/AlphabetSearchAction.action?alpbhabetSearch=Z&d-49653-p=3\n",
      "snoozing for 34 second before next scrape\n",
      "scraping 4 of 5\n",
      "scraping https://apps.health.ny.gov/pubdoh/professionals/doctors/conduct/factions/AlphabetSearchAction.action?alpbhabetSearch=Z&d-49653-p=4\n",
      "scraping 5 of 5\n",
      "scraping https://apps.health.ny.gov/pubdoh/professionals/doctors/conduct/factions/AlphabetSearchAction.action?alpbhabetSearch=Z&d-49653-p=5\n",
      "md_Z.csv is in you current folder\n",
      "all done!\n"
     ]
    },
    {
     "data": {
      "text/html": [
       "<div>\n",
       "<style scoped>\n",
       "    .dataframe tbody tr th:only-of-type {\n",
       "        vertical-align: middle;\n",
       "    }\n",
       "\n",
       "    .dataframe tbody tr th {\n",
       "        vertical-align: top;\n",
       "    }\n",
       "\n",
       "    .dataframe thead th {\n",
       "        text-align: right;\n",
       "    }\n",
       "</style>\n",
       "<table border=\"1\" class=\"dataframe\">\n",
       "  <thead>\n",
       "    <tr style=\"text-align: right;\">\n",
       "      <th></th>\n",
       "      <th>Physician Last Name</th>\n",
       "      <th>Physician First Name</th>\n",
       "      <th>Physician Middle Name</th>\n",
       "      <th>License Number</th>\n",
       "      <th>License Type</th>\n",
       "      <th>Effective Date</th>\n",
       "      <th>Date Updated</th>\n",
       "      <th>Year of Birth</th>\n",
       "    </tr>\n",
       "  </thead>\n",
       "  <tbody>\n",
       "    <tr>\n",
       "      <th>0</th>\n",
       "      <td>Zaccheo</td>\n",
       "      <td>Jerald</td>\n",
       "      <td>D</td>\n",
       "      <td>134842.0</td>\n",
       "      <td>MD</td>\n",
       "      <td>12/20/2001</td>\n",
       "      <td>12/23/2001</td>\n",
       "      <td>1946.0</td>\n",
       "    </tr>\n",
       "    <tr>\n",
       "      <th>1</th>\n",
       "      <td>Zachariah</td>\n",
       "      <td>Abraham</td>\n",
       "      <td>NaN</td>\n",
       "      <td>137458.0</td>\n",
       "      <td>MD</td>\n",
       "      <td>09/15/2004</td>\n",
       "      <td>09/08/2004</td>\n",
       "      <td>1950.0</td>\n",
       "    </tr>\n",
       "    <tr>\n",
       "      <th>2</th>\n",
       "      <td>Zachel</td>\n",
       "      <td>Gretchen</td>\n",
       "      <td>NaN</td>\n",
       "      <td>20699.0</td>\n",
       "      <td>PA</td>\n",
       "      <td>10/13/2017</td>\n",
       "      <td>10/06/2017</td>\n",
       "      <td>1952.0</td>\n",
       "    </tr>\n",
       "    <tr>\n",
       "      <th>3</th>\n",
       "      <td>Zackin</td>\n",
       "      <td>Henry</td>\n",
       "      <td>J</td>\n",
       "      <td>101457.0</td>\n",
       "      <td>MD</td>\n",
       "      <td>03/28/2002</td>\n",
       "      <td>03/09/2005</td>\n",
       "      <td>1941.0</td>\n",
       "    </tr>\n",
       "    <tr>\n",
       "      <th>4</th>\n",
       "      <td>Zackin</td>\n",
       "      <td>Henry</td>\n",
       "      <td>J</td>\n",
       "      <td>101457.0</td>\n",
       "      <td>MD</td>\n",
       "      <td>03/16/2005</td>\n",
       "      <td>03/09/2005</td>\n",
       "      <td>1941.0</td>\n",
       "    </tr>\n",
       "    <tr>\n",
       "      <th>...</th>\n",
       "      <td>...</td>\n",
       "      <td>...</td>\n",
       "      <td>...</td>\n",
       "      <td>...</td>\n",
       "      <td>...</td>\n",
       "      <td>...</td>\n",
       "      <td>...</td>\n",
       "      <td>...</td>\n",
       "    </tr>\n",
       "    <tr>\n",
       "      <th>79</th>\n",
       "      <td>Zugec</td>\n",
       "      <td>Mirko</td>\n",
       "      <td>NaN</td>\n",
       "      <td>213710.0</td>\n",
       "      <td>MD</td>\n",
       "      <td>12/08/2020</td>\n",
       "      <td>12/01/2020</td>\n",
       "      <td>1960.0</td>\n",
       "    </tr>\n",
       "    <tr>\n",
       "      <th>80</th>\n",
       "      <td>Zulfacar</td>\n",
       "      <td>Mary</td>\n",
       "      <td>NaN</td>\n",
       "      <td>130166.0</td>\n",
       "      <td>MD</td>\n",
       "      <td>10/21/2005</td>\n",
       "      <td>10/14/2005</td>\n",
       "      <td>1940.0</td>\n",
       "    </tr>\n",
       "    <tr>\n",
       "      <th>81</th>\n",
       "      <td>Zuniga</td>\n",
       "      <td>Dario</td>\n",
       "      <td>NaN</td>\n",
       "      <td>123324.0</td>\n",
       "      <td>MD</td>\n",
       "      <td>05/07/2002</td>\n",
       "      <td>05/07/2002</td>\n",
       "      <td>1941.0</td>\n",
       "    </tr>\n",
       "    <tr>\n",
       "      <th>82</th>\n",
       "      <td>Zuttah</td>\n",
       "      <td>Silas</td>\n",
       "      <td>H</td>\n",
       "      <td>153216.0</td>\n",
       "      <td>MD</td>\n",
       "      <td>01/22/2003</td>\n",
       "      <td>06/17/2003</td>\n",
       "      <td>1953.0</td>\n",
       "    </tr>\n",
       "    <tr>\n",
       "      <th>83</th>\n",
       "      <td>Zweig</td>\n",
       "      <td>Steven</td>\n",
       "      <td>Jeffrey</td>\n",
       "      <td>140242.0</td>\n",
       "      <td>MD</td>\n",
       "      <td>05/17/2006</td>\n",
       "      <td>05/10/2006</td>\n",
       "      <td>1949.0</td>\n",
       "    </tr>\n",
       "  </tbody>\n",
       "</table>\n",
       "<p>84 rows × 8 columns</p>\n",
       "</div>"
      ],
      "text/plain": [
       "   Physician Last Name Physician First Name Physician Middle Name  \\\n",
       "0              Zaccheo               Jerald                     D   \n",
       "1            Zachariah              Abraham                   NaN   \n",
       "2               Zachel             Gretchen                   NaN   \n",
       "3               Zackin                Henry                     J   \n",
       "4               Zackin                Henry                     J   \n",
       "..                 ...                  ...                   ...   \n",
       "79               Zugec                Mirko                   NaN   \n",
       "80            Zulfacar                 Mary                   NaN   \n",
       "81              Zuniga                Dario                   NaN   \n",
       "82              Zuttah                Silas                     H   \n",
       "83               Zweig               Steven               Jeffrey   \n",
       "\n",
       "    License Number License Type Effective Date Date Updated  Year of Birth  \n",
       "0         134842.0           MD     12/20/2001   12/23/2001         1946.0  \n",
       "1         137458.0           MD     09/15/2004   09/08/2004         1950.0  \n",
       "2          20699.0           PA     10/13/2017   10/06/2017         1952.0  \n",
       "3         101457.0           MD     03/28/2002   03/09/2005         1941.0  \n",
       "4         101457.0           MD     03/16/2005   03/09/2005         1941.0  \n",
       "..             ...          ...            ...          ...            ...  \n",
       "79        213710.0           MD     12/08/2020   12/01/2020         1960.0  \n",
       "80        130166.0           MD     10/21/2005   10/14/2005         1940.0  \n",
       "81        123324.0           MD     05/07/2002   05/07/2002         1941.0  \n",
       "82        153216.0           MD     01/22/2003   06/17/2003         1953.0  \n",
       "83        140242.0           MD     05/17/2006   05/10/2006         1949.0  \n",
       "\n",
       "[84 rows x 8 columns]"
      ]
     },
     "execution_count": 7,
     "metadata": {},
     "output_type": "execute_result"
    }
   ],
   "source": [
    "url = \"https://apps.health.ny.gov/pubdoh/professionals/doctors/conduct/factions/AlphabetSearchAction.action?alpbhabetSearch=Z&d-49653-p=\"\n",
    "total_pages = 5\n",
    "file_name = \"md_Z.csv\"\n",
    "med_df = myScraper(url,total_pages,file_name)[0]\n",
    "med_df"
   ]
  },
  {
   "cell_type": "markdown",
   "metadata": {},
   "source": [
    "## 2. Conversion function\n",
    "\n",
    "\n",
    "Write a function that takes string values like ```$12.24267```, ```10,201``` and ```$12,501``` and converts them into floating point numbers like ```12.24```, ```10201.0``` and ```12501.0```\n",
    "\n",
    "Test it out on those 3 string values.\n",
    "\n",
    "\n"
   ]
  },
  {
   "cell_type": "code",
   "execution_count": 19,
   "metadata": {},
   "outputs": [
    {
     "data": {
      "text/plain": [
       "[12.24, 10201.0, 12501.0]"
      ]
     },
     "execution_count": 19,
     "metadata": {},
     "output_type": "execute_result"
    }
   ],
   "source": [
    "### add more cells as needed\n",
    "strings = [\"$12.24267\",\"10,201\",\"$12,501\"]\n",
    "def StringConvert(string_list):\n",
    "    floats = []\n",
    "    for string in string_list:\n",
    "        string = string.replace(\"$\",\"\")\n",
    "        string = string.replace(\",\",\"_\")\n",
    "        floats.append(round(float(string),2))\n",
    "    return floats\n",
    "\n",
    "floats = StringConvert(strings)\n",
    "floats"
   ]
  },
  {
   "cell_type": "code",
   "execution_count": null,
   "metadata": {},
   "outputs": [],
   "source": []
  }
 ],
 "metadata": {
  "colab": {
   "collapsed_sections": [],
   "name": "hw-for-wk-07-multipage-scrape_BLANK.ipynb",
   "provenance": [
    {
     "file_id": "1rWfxGrjG6s4Mcgj8w5zSWGGE50dBFdJq",
     "timestamp": 1649162503458
    },
    {
     "file_id": "1DbZcgsBT6pdgBS2flQvUzVncxiQAa6eT",
     "timestamp": 1638378958457
    },
    {
     "file_id": "133arYwjAcfDcgyKFyY3rRjMOy7jZCr6n",
     "timestamp": 1627439497801
    }
   ]
  },
  "kernelspec": {
   "display_name": "Python 3 (ipykernel)",
   "language": "python",
   "name": "python3"
  },
  "language_info": {
   "codemirror_mode": {
    "name": "ipython",
    "version": 3
   },
   "file_extension": ".py",
   "mimetype": "text/x-python",
   "name": "python",
   "nbconvert_exporter": "python",
   "pygments_lexer": "ipython3",
   "version": "3.9.7"
  }
 },
 "nbformat": 4,
 "nbformat_minor": 1
}
